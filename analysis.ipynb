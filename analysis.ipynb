{
 "cells": [
  {
   "cell_type": "markdown",
   "id": "5643bf22",
   "metadata": {
    "colab_type": "text",
    "id": "view-in-github"
   },
   "source": [
    "<a href=\"https://colab.research.google.com/github/akhanf/funcmasker-compare/blob/master/analysis.ipynb\" target=\"_parent\"><img src=\"https://colab.research.google.com/assets/colab-badge.svg\" alt=\"Open In Colab\"/></a>"
   ]
  },
  {
   "cell_type": "code",
   "execution_count": 1,
   "id": "4493dc59-9de3-42dd-9ab8-f9642224da75",
   "metadata": {
    "id": "4493dc59-9de3-42dd-9ab8-f9642224da75"
   },
   "outputs": [],
   "source": [
    "import pandas as pd\n",
    "import seaborn as sns\n",
    "import numpy as np\n",
    "import matplotlib.pyplot as plt\n",
    "\n",
    "sns.set_context(\"talk\")\n"
   ]
  },
  {
   "cell_type": "code",
   "execution_count": 2,
   "id": "a3f6f41d-a63a-464c-8d52-aec41bcb1cac",
   "metadata": {
    "colab": {
     "base_uri": "https://localhost:8080/",
     "height": 455
    },
    "id": "a3f6f41d-a63a-464c-8d52-aec41bcb1cac",
    "outputId": "fb71f026-e98c-4cbf-d563-0ed1f0050f80"
   },
   "outputs": [
    {
     "data": {
      "text/html": [
       "<div>\n",
       "<style scoped>\n",
       "    .dataframe tbody tr th:only-of-type {\n",
       "        vertical-align: middle;\n",
       "    }\n",
       "\n",
       "    .dataframe tbody tr th {\n",
       "        vertical-align: top;\n",
       "    }\n",
       "\n",
       "    .dataframe thead th {\n",
       "        text-align: right;\n",
       "    }\n",
       "</style>\n",
       "<table border=\"1\" class=\"dataframe\">\n",
       "  <thead>\n",
       "    <tr style=\"text-align: right;\">\n",
       "      <th></th>\n",
       "      <th>voxels_manual</th>\n",
       "      <th>voxels_auto</th>\n",
       "      <th>voxels_overlap</th>\n",
       "      <th>dice</th>\n",
       "      <th>jaccard</th>\n",
       "    </tr>\n",
       "    <tr>\n",
       "      <th>id</th>\n",
       "      <th></th>\n",
       "      <th></th>\n",
       "      <th></th>\n",
       "      <th></th>\n",
       "      <th></th>\n",
       "    </tr>\n",
       "  </thead>\n",
       "  <tbody>\n",
       "    <tr>\n",
       "      <th>sub-2006_ses-T1_task-rest_vol-0</th>\n",
       "      <td>8237</td>\n",
       "      <td>7594</td>\n",
       "      <td>7170</td>\n",
       "      <td>0.905818</td>\n",
       "      <td>0.827849</td>\n",
       "    </tr>\n",
       "    <tr>\n",
       "      <th>sub-2006_ses-T1_task-rest_vol-1</th>\n",
       "      <td>8485</td>\n",
       "      <td>7683</td>\n",
       "      <td>7327</td>\n",
       "      <td>0.906358</td>\n",
       "      <td>0.828752</td>\n",
       "    </tr>\n",
       "    <tr>\n",
       "      <th>sub-2006_ses-T1_task-rest_vol-2</th>\n",
       "      <td>8622</td>\n",
       "      <td>7538</td>\n",
       "      <td>7365</td>\n",
       "      <td>0.911510</td>\n",
       "      <td>0.837408</td>\n",
       "    </tr>\n",
       "    <tr>\n",
       "      <th>sub-2006_ses-T1_task-rest_vol-3</th>\n",
       "      <td>8847</td>\n",
       "      <td>7618</td>\n",
       "      <td>7482</td>\n",
       "      <td>0.908837</td>\n",
       "      <td>0.832907</td>\n",
       "    </tr>\n",
       "    <tr>\n",
       "      <th>sub-2006_ses-T1_task-rest_vol-4</th>\n",
       "      <td>8779</td>\n",
       "      <td>7615</td>\n",
       "      <td>7396</td>\n",
       "      <td>0.902281</td>\n",
       "      <td>0.821960</td>\n",
       "    </tr>\n",
       "    <tr>\n",
       "      <th>...</th>\n",
       "      <td>...</td>\n",
       "      <td>...</td>\n",
       "      <td>...</td>\n",
       "      <td>...</td>\n",
       "      <td>...</td>\n",
       "    </tr>\n",
       "    <tr>\n",
       "      <th>sub-2228_ses-T2_task-rest_vol-1</th>\n",
       "      <td>9228</td>\n",
       "      <td>8735</td>\n",
       "      <td>8615</td>\n",
       "      <td>0.959194</td>\n",
       "      <td>0.921588</td>\n",
       "    </tr>\n",
       "    <tr>\n",
       "      <th>sub-2228_ses-T2_task-rest_vol-2</th>\n",
       "      <td>9324</td>\n",
       "      <td>8789</td>\n",
       "      <td>8674</td>\n",
       "      <td>0.957765</td>\n",
       "      <td>0.918953</td>\n",
       "    </tr>\n",
       "    <tr>\n",
       "      <th>sub-2228_ses-T2_task-rest_vol-3</th>\n",
       "      <td>9325</td>\n",
       "      <td>8993</td>\n",
       "      <td>8749</td>\n",
       "      <td>0.955235</td>\n",
       "      <td>0.914307</td>\n",
       "    </tr>\n",
       "    <tr>\n",
       "      <th>sub-2228_ses-T2_task-rest_vol-4</th>\n",
       "      <td>9421</td>\n",
       "      <td>8081</td>\n",
       "      <td>7996</td>\n",
       "      <td>0.913724</td>\n",
       "      <td>0.841153</td>\n",
       "    </tr>\n",
       "    <tr>\n",
       "      <th>sub-2228_ses-T2_task-rest_vol-5</th>\n",
       "      <td>9566</td>\n",
       "      <td>8595</td>\n",
       "      <td>8489</td>\n",
       "      <td>0.934860</td>\n",
       "      <td>0.877688</td>\n",
       "    </tr>\n",
       "  </tbody>\n",
       "</table>\n",
       "<p>349 rows × 5 columns</p>\n",
       "</div>"
      ],
      "text/plain": [
       "                                 voxels_manual  voxels_auto  voxels_overlap  \\\n",
       "id                                                                            \n",
       "sub-2006_ses-T1_task-rest_vol-0           8237         7594            7170   \n",
       "sub-2006_ses-T1_task-rest_vol-1           8485         7683            7327   \n",
       "sub-2006_ses-T1_task-rest_vol-2           8622         7538            7365   \n",
       "sub-2006_ses-T1_task-rest_vol-3           8847         7618            7482   \n",
       "sub-2006_ses-T1_task-rest_vol-4           8779         7615            7396   \n",
       "...                                        ...          ...             ...   \n",
       "sub-2228_ses-T2_task-rest_vol-1           9228         8735            8615   \n",
       "sub-2228_ses-T2_task-rest_vol-2           9324         8789            8674   \n",
       "sub-2228_ses-T2_task-rest_vol-3           9325         8993            8749   \n",
       "sub-2228_ses-T2_task-rest_vol-4           9421         8081            7996   \n",
       "sub-2228_ses-T2_task-rest_vol-5           9566         8595            8489   \n",
       "\n",
       "                                     dice   jaccard  \n",
       "id                                                   \n",
       "sub-2006_ses-T1_task-rest_vol-0  0.905818  0.827849  \n",
       "sub-2006_ses-T1_task-rest_vol-1  0.906358  0.828752  \n",
       "sub-2006_ses-T1_task-rest_vol-2  0.911510  0.837408  \n",
       "sub-2006_ses-T1_task-rest_vol-3  0.908837  0.832907  \n",
       "sub-2006_ses-T1_task-rest_vol-4  0.902281  0.821960  \n",
       "...                                   ...       ...  \n",
       "sub-2228_ses-T2_task-rest_vol-1  0.959194  0.921588  \n",
       "sub-2228_ses-T2_task-rest_vol-2  0.957765  0.918953  \n",
       "sub-2228_ses-T2_task-rest_vol-3  0.955235  0.914307  \n",
       "sub-2228_ses-T2_task-rest_vol-4  0.913724  0.841153  \n",
       "sub-2228_ses-T2_task-rest_vol-5  0.934860  0.877688  \n",
       "\n",
       "[349 rows x 5 columns]"
      ]
     },
     "execution_count": 2,
     "metadata": {},
     "output_type": "execute_result"
    }
   ],
   "source": [
    "df = pd.read_csv('https://github.com/akhanf/funcmasker-compare/raw/master/funcmasker_output/test_dice.csv')\n",
    "#sns.displot(df,x='dice')\n",
    "\n",
    "df.set_index('id')"
   ]
  },
  {
   "cell_type": "markdown",
   "id": "023c1af7-c8c7-4632-8394-3a29eca97345",
   "metadata": {
    "id": "023c1af7-c8c7-4632-8394-3a29eca97345"
   },
   "source": [
    "### IMPORTANT NOTE:\n",
    "In the Rutherford dataset there are some images where the raw data (manual mask) is incorrect -- I previously examined the auto and manual masks and found that any masks where our Dice was < 0.7 were actually bad data, so removed based on that criteria, and also make a list that noted additional bad data (`bad_vols.txt`) but I can't find that list anymore.. \n",
    "\n",
    "This code used the `bad_vols.txt` to exclude that data:\n",
    "```\n",
    "#get list of bad volumes (those where manual mask extends past the bold -- bids dataset has incorrect cropping for some subjects that causes this)\n",
    "\n",
    "df_bad = pd.read_table('../test_rutherford_brainmask/bad_vols.txt',\n",
    "                      sep=' ',names=['subject','session','task','vol'])\n",
    "df_bad\n",
    "\n",
    "def map_vol(vol):\n",
    "    return f'vol-{vol}'\n",
    "\n",
    "bad_ids = ['_'.join(i) for i in zip(df_bad['subject'].map(str),df_bad['session'].map(str),df_bad['task'].map(str),df_bad['vol'].map(map_vol))]\n",
    "\n",
    "df_bad = pd.DataFrame(bad_ids,columns=['id'])\n",
    "df_bad\n",
    "\n",
    "\n",
    "df = (pd.merge(df,df_bad, indicator=True, how='outer')\n",
    "         .query('_merge==\"left_only\"')\n",
    "         .drop('_merge', axis=1))\n",
    "```\n",
    "\n",
    "I still include the original 0.7 Fice filter here too below, but ideally we should just be throwing out the bad manual masks based on visual inspection only.. "
   ]
  },
  {
   "cell_type": "code",
   "execution_count": 3,
   "id": "cfe319b0-c61e-49f2-ac02-b42322b26bcc",
   "metadata": {
    "id": "cfe319b0-c61e-49f2-ac02-b42322b26bcc"
   },
   "outputs": [],
   "source": [
    "#have confirmed that Dice <0.7 are errors in manual seg\n",
    "\n",
    "df3d = df[df['dice'] > 0.7 ]\n",
    "\n",
    "# if you want to avoid this filter, use the following:\n",
    "df3d = df"
   ]
  },
  {
   "cell_type": "code",
   "execution_count": 4,
   "id": "c41c397c-6e4e-4ead-8115-02cf10079e80",
   "metadata": {
    "id": "c41c397c-6e4e-4ead-8115-02cf10079e80"
   },
   "outputs": [],
   "source": [
    "df2d = pd.read_csv('https://github.com/akhanf/funcmasker-compare/raw/master/funcmasker_output/test_rutherfordunet_dice.csv')\n",
    "df = pd.merge(df3d,df2d,left_on='id',right_on='id',suffixes=('_nnunet','_rutherford'))"
   ]
  },
  {
   "cell_type": "code",
   "execution_count": null,
   "id": "a69e6e90-c9ad-4bbf-b12f-c1ab35a8078c",
   "metadata": {
    "id": "a69e6e90-c9ad-4bbf-b12f-c1ab35a8078c"
   },
   "outputs": [],
   "source": []
  },
  {
   "cell_type": "code",
   "execution_count": 5,
   "id": "ff69cde6-94c6-428c-9ff3-ec8c33ae5324",
   "metadata": {
    "id": "ff69cde6-94c6-428c-9ff3-ec8c33ae5324",
    "outputId": "b7237af8-7d3e-41e3-e3ee-a108c1856fab"
   },
   "outputs": [
    {
     "data": {
      "image/png": "[encoded data removed]",
      "text/plain": [
       "<Figure size 432x432 with 3 Axes>"
      ]
     },
     "metadata": {
      "needs_background": "light"
     },
     "output_type": "display_data"
    }
   ],
   "source": [
    "df\n",
    "g = sns.jointplot(x='dice_nnunet',y='dice_rutherford',data=df,xlim=(0,1),ylim=(0,1),ratio=3,n)\n",
    "#g.set_xlabel(\"Dice score, Baseline method (2d-unet)\", fontsize = 20)\n",
    "g.set_axis_labels(\"Dice, Proposed method (3D-unet)\", \"Dice, Baseline method (2d-unet)\")\n",
    "\n",
    "g.savefig('figures/dice_scatter_ds3090.svg')"
   ]
  },
  {
   "cell_type": "code",
   "execution_count": 6,
   "id": "ea4ae3a9-16fe-4528-91fb-fa1480dcb729",
   "metadata": {
    "id": "ea4ae3a9-16fe-4528-91fb-fa1480dcb729",
    "outputId": "d758f3a6-99b5-4e9b-9b5a-56dfd4bd164b"
   },
   "outputs": [
    {
     "name": "stdout",
     "output_type": "stream",
     "text": [
      "\\begin{tabular}{|c|c|c|}\n",
      "Dice metric & $\\mu \\pm  \\sigma$  & (min, max) \\\\\n",
      " Proposed method (3D-unet) & $0.92 \\pm 0.10$ & $(0.21,0.99 )$ \\\\\n",
      " Baseline method (2D-unet) & $0.79 \\pm 0.28$ & $(0.00,0.99 )$ \\\\\n",
      "\\end{tabular}\n"
     ]
    }
   ],
   "source": [
    "#make table with mean, stdev, and range\n",
    "print(\"\\\\begin{tabular}{|c|c|c|}\")\n",
    "print(f\"Dice metric & $\\mu \\pm  \\sigma$  & (min, max) \\\\\\\\\")\n",
    "print(f\" Proposed method (3D-unet) & ${df['dice_nnunet'].mean():0.2f} \\pm {df['dice_nnunet'].std():0.2f}$ & $({df['dice_nnunet'].min():0.2f},{df['dice_nnunet'].max():0.2f} )$ \\\\\\\\\")\n",
    "print(f\" Baseline method (2D-unet) & ${df['dice_rutherford'].mean():0.2f} \\pm {df['dice_rutherford'].std():0.2f}$ & $({df['dice_rutherford'].min():0.2f},{df['dice_rutherford'].max():0.2f} )$ \\\\\\\\\")\n",
    "print(\"\\\\end{tabular}\")\n"
   ]
  },
  {
   "cell_type": "code",
   "execution_count": 7,
   "id": "5fe8e2ec-fbce-48a3-9b56-0f49ec2f058c",
   "metadata": {
    "id": "5fe8e2ec-fbce-48a3-9b56-0f49ec2f058c",
    "outputId": "2609617c-8496-4d4b-cbaa-04ba98ab39b7"
   },
   "outputs": [
    {
     "name": "stdout",
     "output_type": "stream",
     "text": [
      "\\begin{tabular}{|c|c|c|}\n",
      "Dice metric & $\\mu \\pm  \\sigma$  & (min, max) \\\\\n",
      " Proposed method (3D-unet) & $0.92 \\pm 0.10$ & $(0.21,0.99 )$ \\\\\n",
      " Baseline method (2D-unet) & $0.79 \\pm 0.28$ & $(0.00,0.99 )$ \\\\\n",
      "\\end{tabular}\n"
     ]
    }
   ],
   "source": [
    "#make table with mean, stdev, and range\n",
    "print(\"\\\\begin{tabular}{|c|c|c|}\")\n",
    "print(f\"Dice metric & $\\mu \\pm  \\sigma$  & (min, max) \\\\\\\\\")\n",
    "print(f\" Proposed method (3D-unet) & ${df['dice_nnunet'].mean():0.2f} \\pm {df['dice_nnunet'].std():0.2f}$ & $({df['dice_nnunet'].min():0.2f},{df['dice_nnunet'].max():0.2f} )$ \\\\\\\\\")\n",
    "print(f\" Baseline method (2D-unet) & ${df['dice_rutherford'].mean():0.2f} \\pm {df['dice_rutherford'].std():0.2f}$ & $({df['dice_rutherford'].min():0.2f},{df['dice_rutherford'].max():0.2f} )$ \\\\\\\\\")\n",
    "print(\"\\\\end{tabular}\")\n"
   ]
  },
  {
   "cell_type": "code",
   "execution_count": 8,
   "id": "d8571773-4182-41c0-bbd7-7a55f0adbcbb",
   "metadata": {
    "id": "d8571773-4182-41c0-bbd7-7a55f0adbcbb"
   },
   "outputs": [],
   "source": [
    "#make vert concat table\n",
    "group = ['Proposed (3D-unet)' for i in range(len(df3d))] + ['Baseline (2D-unet)' for i in range(len(df3d))]\n",
    "df = pd.DataFrame(pd.concat((df['dice_nnunet'],df['dice_rutherford']),ignore_index=True),columns=['dice'])\n",
    "df['group']=group"
   ]
  },
  {
   "cell_type": "code",
   "execution_count": 9,
   "id": "3f26bd8c-e478-4c8e-a124-02403ebce042",
   "metadata": {
    "id": "3f26bd8c-e478-4c8e-a124-02403ebce042",
    "outputId": "21d1246f-f30b-4e56-96c0-197daebf6824"
   },
   "outputs": [
    {
     "data": {
      "image/png": "[encoded data removed]",
      "text/plain": [
       "<Figure size 720x360 with 1 Axes>"
      ]
     },
     "metadata": {
      "needs_background": "light"
     },
     "output_type": "display_data"
    }
   ],
   "source": [
    "\n",
    "g = sns.displot(data=df, x=\"dice\", hue=\"group\",aspect=2,legend=False,log_scale=(False,False))\n",
    "plt.legend(title='Method', loc='upper left', labels=['Baseline (2D-unet)','Proposed (3D-unet)'])\n",
    "g.set_axis_labels(\"Dice Similarity, Automated vs Manual\", \"Count\")\n",
    "plt.title('Test Performance on Source Dataset')\n",
    "plt.xlim(0,1)\n",
    "g.savefig('figures/dice_ds3090.svg')"
   ]
  },
  {
   "cell_type": "code",
   "execution_count": 10,
   "id": "4756f07f-fadd-4484-8014-a53e3dd5ea9c",
   "metadata": {
    "id": "4756f07f-fadd-4484-8014-a53e3dd5ea9c",
    "outputId": "e15c877b-f936-490e-fd69-68b9a0b4ab5a"
   },
   "outputs": [
    {
     "data": {
      "image/png": "[encoded data removed]",
      "text/plain": [
       "<Figure size 432x432 with 3 Axes>"
      ]
     },
     "metadata": {
      "needs_background": "light"
     },
     "output_type": "display_data"
    }
   ],
   "source": [
    "#load up generalization data\n",
    "df3d = pd.read_csv('https://github.com/akhanf/funcmasker-compare/raw/master/funcmasker_output_uwodata/test_dice.csv',dtype={'voxels_manual':np.int32})\n",
    "df2d = pd.read_csv('https://github.com/akhanf/funcmasker-compare/raw/master/funcmasker_output_uwodata/test_rutherfordunet_dice.csv',dtype={'voxels_manual':np.int32})\n",
    "\n",
    "df = pd.merge(df3d,df2d,left_on='id',right_on='id',suffixes=('_nnunet','_rutherford'))\n",
    "\n",
    "g = sns.jointplot(x='dice_nnunet',y='dice_rutherford',data=df,xlim=(0,1),ylim=(0,1),ratio=3,)\n",
    "g.set_axis_labels(\"Dice, Proposed method (3D-unet)\", \"Dice, Baseline method (2d-unet)\")\n",
    "\n",
    "g.savefig('figures/dice_scatter_localdata.svg')"
   ]
  },
  {
   "cell_type": "code",
   "execution_count": 11,
   "id": "82c7d279-ca92-4dfc-9482-60197bacddf9",
   "metadata": {
    "id": "82c7d279-ca92-4dfc-9482-60197bacddf9",
    "outputId": "906a3ffa-818b-4feb-b66f-f4d71faa71f2"
   },
   "outputs": [
    {
     "name": "stdout",
     "output_type": "stream",
     "text": [
      "\\begin{tabular}{|c|c|c|}\n",
      "Dice metric & $\\mu \\pm  \\sigma$  & (min, max) \\\\\n",
      " Proposed method (3D-unet) & $0.93 \\pm 0.04$ & $(0.81,0.97 )$ \\\\\n",
      " Baseline method (2D-unet) & $0.87 \\pm 0.12$ & $(0.37,0.97 )$ \\\\\n",
      "\\end{tabular}\n"
     ]
    }
   ],
   "source": [
    "#make table with mean, stdev, and range\n",
    "print(\"\\\\begin{tabular}{|c|c|c|}\")\n",
    "print(f\"Dice metric & $\\mu \\pm  \\sigma$  & (min, max) \\\\\\\\\")\n",
    "print(f\" Proposed method (3D-unet) & ${df['dice_nnunet'].mean():0.2f} \\pm {df['dice_nnunet'].std():0.2f}$ & $({df['dice_nnunet'].min():0.2f},{df['dice_nnunet'].max():0.2f} )$ \\\\\\\\\")\n",
    "print(f\" Baseline method (2D-unet) & ${df['dice_rutherford'].mean():0.2f} \\pm {df['dice_rutherford'].std():0.2f}$ & $({df['dice_rutherford'].min():0.2f},{df['dice_rutherford'].max():0.2f} )$ \\\\\\\\\")\n",
    "print(\"\\\\end{tabular}\")\n"
   ]
  },
  {
   "cell_type": "code",
   "execution_count": null,
   "id": "09b87a6f-b2f6-4c6d-b353-2ee61041d1e8",
   "metadata": {
    "id": "09b87a6f-b2f6-4c6d-b353-2ee61041d1e8"
   },
   "outputs": [],
   "source": []
  },
  {
   "cell_type": "code",
   "execution_count": 12,
   "id": "2dcdf002-9bb2-4fa6-85ef-9d4c8a5b45f8",
   "metadata": {
    "id": "2dcdf002-9bb2-4fa6-85ef-9d4c8a5b45f8",
    "outputId": "9ed995e0-2591-412c-f301-2156f6090c0c"
   },
   "outputs": [
    {
     "data": {
      "text/html": [
       "<div>\n",
       "<style scoped>\n",
       "    .dataframe tbody tr th:only-of-type {\n",
       "        vertical-align: middle;\n",
       "    }\n",
       "\n",
       "    .dataframe tbody tr th {\n",
       "        vertical-align: top;\n",
       "    }\n",
       "\n",
       "    .dataframe thead th {\n",
       "        text-align: right;\n",
       "    }\n",
       "</style>\n",
       "<table border=\"1\" class=\"dataframe\">\n",
       "  <thead>\n",
       "    <tr style=\"text-align: right;\">\n",
       "      <th></th>\n",
       "      <th>id</th>\n",
       "      <th>voxels_manual</th>\n",
       "      <th>voxels_auto</th>\n",
       "      <th>voxels_overlap</th>\n",
       "      <th>dice</th>\n",
       "      <th>jaccard</th>\n",
       "      <th>group</th>\n",
       "    </tr>\n",
       "  </thead>\n",
       "  <tbody>\n",
       "    <tr>\n",
       "      <th>0</th>\n",
       "      <td>sub-S1_ses-1_task-singing1_vol-0</td>\n",
       "      <td>6647</td>\n",
       "      <td>6606</td>\n",
       "      <td>6348</td>\n",
       "      <td>0.957972</td>\n",
       "      <td>0.919334</td>\n",
       "      <td>Proposed (3D-unet)</td>\n",
       "    </tr>\n",
       "    <tr>\n",
       "      <th>1</th>\n",
       "      <td>sub-S1_ses-1_task-singing1_vol-1</td>\n",
       "      <td>6721</td>\n",
       "      <td>6621</td>\n",
       "      <td>6406</td>\n",
       "      <td>0.960276</td>\n",
       "      <td>0.923587</td>\n",
       "      <td>Proposed (3D-unet)</td>\n",
       "    </tr>\n",
       "    <tr>\n",
       "      <th>2</th>\n",
       "      <td>sub-S1_ses-1_task-singing1_vol-2</td>\n",
       "      <td>6658</td>\n",
       "      <td>6641</td>\n",
       "      <td>6368</td>\n",
       "      <td>0.957666</td>\n",
       "      <td>0.918771</td>\n",
       "      <td>Proposed (3D-unet)</td>\n",
       "    </tr>\n",
       "    <tr>\n",
       "      <th>3</th>\n",
       "      <td>sub-S1_ses-1_task-singing1_vol-3</td>\n",
       "      <td>6834</td>\n",
       "      <td>6590</td>\n",
       "      <td>6400</td>\n",
       "      <td>0.953516</td>\n",
       "      <td>0.911162</td>\n",
       "      <td>Proposed (3D-unet)</td>\n",
       "    </tr>\n",
       "    <tr>\n",
       "      <th>4</th>\n",
       "      <td>sub-S1_ses-1_task-singing1_vol-4</td>\n",
       "      <td>6698</td>\n",
       "      <td>6619</td>\n",
       "      <td>6371</td>\n",
       "      <td>0.956822</td>\n",
       "      <td>0.917219</td>\n",
       "      <td>Proposed (3D-unet)</td>\n",
       "    </tr>\n",
       "    <tr>\n",
       "      <th>...</th>\n",
       "      <td>...</td>\n",
       "      <td>...</td>\n",
       "      <td>...</td>\n",
       "      <td>...</td>\n",
       "      <td>...</td>\n",
       "      <td>...</td>\n",
       "      <td>...</td>\n",
       "    </tr>\n",
       "    <tr>\n",
       "      <th>4395</th>\n",
       "      <td>sub-S10_ses-1_task-rest_vol-105</td>\n",
       "      <td>11386</td>\n",
       "      <td>8657</td>\n",
       "      <td>8657</td>\n",
       "      <td>0.863843</td>\n",
       "      <td>0.760320</td>\n",
       "      <td>Baseline (2D-unet)</td>\n",
       "    </tr>\n",
       "    <tr>\n",
       "      <th>4396</th>\n",
       "      <td>sub-S10_ses-1_task-rest_vol-106</td>\n",
       "      <td>11326</td>\n",
       "      <td>8705</td>\n",
       "      <td>8705</td>\n",
       "      <td>0.869153</td>\n",
       "      <td>0.768586</td>\n",
       "      <td>Baseline (2D-unet)</td>\n",
       "    </tr>\n",
       "    <tr>\n",
       "      <th>4397</th>\n",
       "      <td>sub-S10_ses-1_task-rest_vol-107</td>\n",
       "      <td>11288</td>\n",
       "      <td>8659</td>\n",
       "      <td>8659</td>\n",
       "      <td>0.868201</td>\n",
       "      <td>0.767098</td>\n",
       "      <td>Baseline (2D-unet)</td>\n",
       "    </tr>\n",
       "    <tr>\n",
       "      <th>4398</th>\n",
       "      <td>sub-S10_ses-1_task-rest_vol-108</td>\n",
       "      <td>11319</td>\n",
       "      <td>8629</td>\n",
       "      <td>8629</td>\n",
       "      <td>0.865149</td>\n",
       "      <td>0.762346</td>\n",
       "      <td>Baseline (2D-unet)</td>\n",
       "    </tr>\n",
       "    <tr>\n",
       "      <th>4399</th>\n",
       "      <td>sub-S10_ses-1_task-rest_vol-109</td>\n",
       "      <td>11312</td>\n",
       "      <td>8593</td>\n",
       "      <td>8592</td>\n",
       "      <td>0.863301</td>\n",
       "      <td>0.759480</td>\n",
       "      <td>Baseline (2D-unet)</td>\n",
       "    </tr>\n",
       "  </tbody>\n",
       "</table>\n",
       "<p>4400 rows × 7 columns</p>\n",
       "</div>"
      ],
      "text/plain": [
       "                                    id  voxels_manual  voxels_auto  \\\n",
       "0     sub-S1_ses-1_task-singing1_vol-0           6647         6606   \n",
       "1     sub-S1_ses-1_task-singing1_vol-1           6721         6621   \n",
       "2     sub-S1_ses-1_task-singing1_vol-2           6658         6641   \n",
       "3     sub-S1_ses-1_task-singing1_vol-3           6834         6590   \n",
       "4     sub-S1_ses-1_task-singing1_vol-4           6698         6619   \n",
       "...                                ...            ...          ...   \n",
       "4395   sub-S10_ses-1_task-rest_vol-105          11386         8657   \n",
       "4396   sub-S10_ses-1_task-rest_vol-106          11326         8705   \n",
       "4397   sub-S10_ses-1_task-rest_vol-107          11288         8659   \n",
       "4398   sub-S10_ses-1_task-rest_vol-108          11319         8629   \n",
       "4399   sub-S10_ses-1_task-rest_vol-109          11312         8593   \n",
       "\n",
       "      voxels_overlap      dice   jaccard               group  \n",
       "0               6348  0.957972  0.919334  Proposed (3D-unet)  \n",
       "1               6406  0.960276  0.923587  Proposed (3D-unet)  \n",
       "2               6368  0.957666  0.918771  Proposed (3D-unet)  \n",
       "3               6400  0.953516  0.911162  Proposed (3D-unet)  \n",
       "4               6371  0.956822  0.917219  Proposed (3D-unet)  \n",
       "...              ...       ...       ...                 ...  \n",
       "4395            8657  0.863843  0.760320  Baseline (2D-unet)  \n",
       "4396            8705  0.869153  0.768586  Baseline (2D-unet)  \n",
       "4397            8659  0.868201  0.767098  Baseline (2D-unet)  \n",
       "4398            8629  0.865149  0.762346  Baseline (2D-unet)  \n",
       "4399            8592  0.863301  0.759480  Baseline (2D-unet)  \n",
       "\n",
       "[4400 rows x 7 columns]"
      ]
     },
     "execution_count": 12,
     "metadata": {},
     "output_type": "execute_result"
    }
   ],
   "source": [
    "#instead of merge, we can concat (while keeping groups separate) to enable overlapping histograms\n",
    "\n",
    "group = ['Proposed (3D-unet)' for i in range(len(df3d))] + ['Baseline (2D-unet)' for i in range(len(df3d))]\n",
    "df = pd.concat((df3d,df2d),ignore_index=True)\n",
    "df['group'] = group\n",
    "df"
   ]
  },
  {
   "cell_type": "code",
   "execution_count": 13,
   "id": "7e7ce219-acb1-4b9c-bcb6-4c8ace93c4c7",
   "metadata": {
    "id": "7e7ce219-acb1-4b9c-bcb6-4c8ace93c4c7",
    "outputId": "daf96ea1-fa83-432f-8d65-c8b8b20325fa"
   },
   "outputs": [
    {
     "data": {
      "image/png": "[encoded data removed]",
      "text/plain": [
       "<Figure size 720x360 with 1 Axes>"
      ]
     },
     "metadata": {
      "needs_background": "light"
     },
     "output_type": "display_data"
    }
   ],
   "source": [
    "g = sns.displot(data=df, x=\"dice\", hue=\"group\",aspect=2,legend=False,log_scale=(False,False))\n",
    "plt.legend(title='Method', loc='upper left', labels=['Baseline (2D-unet)','Proposed (3D-unet)'])\n",
    "g.set_axis_labels(\"Dice Similarity, Automated vs Manual\", \"Count\")\n",
    "plt.xlim(0,1)\n",
    "plt.title('Test Performance on Generalization Dataset')\n",
    "\n",
    "g.savefig('figures/dice_localdata.svg')"
   ]
  },
  {
   "cell_type": "code",
   "execution_count": 14,
   "id": "ab96cd3d-ce46-4696-a8d4-72014deb958a",
   "metadata": {
    "id": "ab96cd3d-ce46-4696-a8d4-72014deb958a",
    "outputId": "77d44c61-aa10-4082-fa17-6bad46982537"
   },
   "outputs": [
    {
     "data": {
      "text/plain": [
       "0        6647\n",
       "1        6721\n",
       "2        6658\n",
       "3        6834\n",
       "4        6698\n",
       "        ...  \n",
       "4395    11386\n",
       "4396    11326\n",
       "4397    11288\n",
       "4398    11319\n",
       "4399    11312\n",
       "Name: voxels_manual, Length: 4400, dtype: int32"
      ]
     },
     "execution_count": 14,
     "metadata": {},
     "output_type": "execute_result"
    }
   ],
   "source": [
    "df.voxels_manual"
   ]
  },
  {
   "cell_type": "code",
   "execution_count": 15,
   "id": "9dc528c0-7c7b-41ed-bc8b-f9ae3b025d0b",
   "metadata": {
    "id": "9dc528c0-7c7b-41ed-bc8b-f9ae3b025d0b",
    "outputId": "d3c8cdf6-caeb-4718-9d1a-011fccf33d9e"
   },
   "outputs": [
    {
     "data": {
      "text/html": [
       "<div>\n",
       "<style scoped>\n",
       "    .dataframe tbody tr th:only-of-type {\n",
       "        vertical-align: middle;\n",
       "    }\n",
       "\n",
       "    .dataframe tbody tr th {\n",
       "        vertical-align: top;\n",
       "    }\n",
       "\n",
       "    .dataframe thead th {\n",
       "        text-align: right;\n",
       "    }\n",
       "</style>\n",
       "<table border=\"1\" class=\"dataframe\">\n",
       "  <thead>\n",
       "    <tr style=\"text-align: right;\">\n",
       "      <th></th>\n",
       "      <th>id</th>\n",
       "      <th>voxels_manual</th>\n",
       "      <th>voxels_auto</th>\n",
       "      <th>voxels_overlap</th>\n",
       "      <th>dice</th>\n",
       "      <th>jaccard</th>\n",
       "      <th>group</th>\n",
       "    </tr>\n",
       "  </thead>\n",
       "  <tbody>\n",
       "    <tr>\n",
       "      <th>0</th>\n",
       "      <td>sub-S1_ses-1_task-singing1_vol-0</td>\n",
       "      <td>6647</td>\n",
       "      <td>6606</td>\n",
       "      <td>6348</td>\n",
       "      <td>0.957972</td>\n",
       "      <td>0.919334</td>\n",
       "      <td>Proposed (3D-unet)</td>\n",
       "    </tr>\n",
       "    <tr>\n",
       "      <th>1</th>\n",
       "      <td>sub-S1_ses-1_task-singing1_vol-1</td>\n",
       "      <td>6721</td>\n",
       "      <td>6621</td>\n",
       "      <td>6406</td>\n",
       "      <td>0.960276</td>\n",
       "      <td>0.923587</td>\n",
       "      <td>Proposed (3D-unet)</td>\n",
       "    </tr>\n",
       "    <tr>\n",
       "      <th>2</th>\n",
       "      <td>sub-S1_ses-1_task-singing1_vol-2</td>\n",
       "      <td>6658</td>\n",
       "      <td>6641</td>\n",
       "      <td>6368</td>\n",
       "      <td>0.957666</td>\n",
       "      <td>0.918771</td>\n",
       "      <td>Proposed (3D-unet)</td>\n",
       "    </tr>\n",
       "    <tr>\n",
       "      <th>3</th>\n",
       "      <td>sub-S1_ses-1_task-singing1_vol-3</td>\n",
       "      <td>6834</td>\n",
       "      <td>6590</td>\n",
       "      <td>6400</td>\n",
       "      <td>0.953516</td>\n",
       "      <td>0.911162</td>\n",
       "      <td>Proposed (3D-unet)</td>\n",
       "    </tr>\n",
       "    <tr>\n",
       "      <th>4</th>\n",
       "      <td>sub-S1_ses-1_task-singing1_vol-4</td>\n",
       "      <td>6698</td>\n",
       "      <td>6619</td>\n",
       "      <td>6371</td>\n",
       "      <td>0.956822</td>\n",
       "      <td>0.917219</td>\n",
       "      <td>Proposed (3D-unet)</td>\n",
       "    </tr>\n",
       "    <tr>\n",
       "      <th>...</th>\n",
       "      <td>...</td>\n",
       "      <td>...</td>\n",
       "      <td>...</td>\n",
       "      <td>...</td>\n",
       "      <td>...</td>\n",
       "      <td>...</td>\n",
       "      <td>...</td>\n",
       "    </tr>\n",
       "    <tr>\n",
       "      <th>4395</th>\n",
       "      <td>sub-S10_ses-1_task-rest_vol-105</td>\n",
       "      <td>11386</td>\n",
       "      <td>8657</td>\n",
       "      <td>8657</td>\n",
       "      <td>0.863843</td>\n",
       "      <td>0.760320</td>\n",
       "      <td>Baseline (2D-unet)</td>\n",
       "    </tr>\n",
       "    <tr>\n",
       "      <th>4396</th>\n",
       "      <td>sub-S10_ses-1_task-rest_vol-106</td>\n",
       "      <td>11326</td>\n",
       "      <td>8705</td>\n",
       "      <td>8705</td>\n",
       "      <td>0.869153</td>\n",
       "      <td>0.768586</td>\n",
       "      <td>Baseline (2D-unet)</td>\n",
       "    </tr>\n",
       "    <tr>\n",
       "      <th>4397</th>\n",
       "      <td>sub-S10_ses-1_task-rest_vol-107</td>\n",
       "      <td>11288</td>\n",
       "      <td>8659</td>\n",
       "      <td>8659</td>\n",
       "      <td>0.868201</td>\n",
       "      <td>0.767098</td>\n",
       "      <td>Baseline (2D-unet)</td>\n",
       "    </tr>\n",
       "    <tr>\n",
       "      <th>4398</th>\n",
       "      <td>sub-S10_ses-1_task-rest_vol-108</td>\n",
       "      <td>11319</td>\n",
       "      <td>8629</td>\n",
       "      <td>8629</td>\n",
       "      <td>0.865149</td>\n",
       "      <td>0.762346</td>\n",
       "      <td>Baseline (2D-unet)</td>\n",
       "    </tr>\n",
       "    <tr>\n",
       "      <th>4399</th>\n",
       "      <td>sub-S10_ses-1_task-rest_vol-109</td>\n",
       "      <td>11312</td>\n",
       "      <td>8593</td>\n",
       "      <td>8592</td>\n",
       "      <td>0.863301</td>\n",
       "      <td>0.759480</td>\n",
       "      <td>Baseline (2D-unet)</td>\n",
       "    </tr>\n",
       "  </tbody>\n",
       "</table>\n",
       "<p>4400 rows × 7 columns</p>\n",
       "</div>"
      ],
      "text/plain": [
       "                                    id  voxels_manual  voxels_auto  \\\n",
       "0     sub-S1_ses-1_task-singing1_vol-0           6647         6606   \n",
       "1     sub-S1_ses-1_task-singing1_vol-1           6721         6621   \n",
       "2     sub-S1_ses-1_task-singing1_vol-2           6658         6641   \n",
       "3     sub-S1_ses-1_task-singing1_vol-3           6834         6590   \n",
       "4     sub-S1_ses-1_task-singing1_vol-4           6698         6619   \n",
       "...                                ...            ...          ...   \n",
       "4395   sub-S10_ses-1_task-rest_vol-105          11386         8657   \n",
       "4396   sub-S10_ses-1_task-rest_vol-106          11326         8705   \n",
       "4397   sub-S10_ses-1_task-rest_vol-107          11288         8659   \n",
       "4398   sub-S10_ses-1_task-rest_vol-108          11319         8629   \n",
       "4399   sub-S10_ses-1_task-rest_vol-109          11312         8593   \n",
       "\n",
       "      voxels_overlap      dice   jaccard               group  \n",
       "0               6348  0.957972  0.919334  Proposed (3D-unet)  \n",
       "1               6406  0.960276  0.923587  Proposed (3D-unet)  \n",
       "2               6368  0.957666  0.918771  Proposed (3D-unet)  \n",
       "3               6400  0.953516  0.911162  Proposed (3D-unet)  \n",
       "4               6371  0.956822  0.917219  Proposed (3D-unet)  \n",
       "...              ...       ...       ...                 ...  \n",
       "4395            8657  0.863843  0.760320  Baseline (2D-unet)  \n",
       "4396            8705  0.869153  0.768586  Baseline (2D-unet)  \n",
       "4397            8659  0.868201  0.767098  Baseline (2D-unet)  \n",
       "4398            8629  0.865149  0.762346  Baseline (2D-unet)  \n",
       "4399            8592  0.863301  0.759480  Baseline (2D-unet)  \n",
       "\n",
       "[4400 rows x 7 columns]"
      ]
     },
     "execution_count": 15,
     "metadata": {},
     "output_type": "execute_result"
    }
   ],
   "source": [
    "df"
   ]
  }
 ],
 "metadata": {
  "colab": {
   "include_colab_link": true,
   "name": "analysis.ipynb",
   "provenance": []
  },
  "kernelspec": {
   "display_name": "Python 3 (ipykernel)",
   "language": "python",
   "name": "python3"
  },
  "language_info": {
   "codemirror_mode": {
    "name": "ipython",
    "version": 3
   },
   "file_extension": ".py",
   "mimetype": "text/x-python",
   "name": "python",
   "nbconvert_exporter": "python",
   "pygments_lexer": "ipython3",
   "version": "3.8.10"
  }
 },
 "nbformat": 4,
 "nbformat_minor": 5
}
